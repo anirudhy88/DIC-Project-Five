{
 "cells": [
  {
   "cell_type": "code",
   "execution_count": 1,
   "metadata": {
    "collapsed": true
   },
   "outputs": [],
   "source": [
    "import pyspark  \n",
    "from pyspark.mllib.regression import LabeledPoint\n",
    "from pyspark.mllib.classification import LogisticRegressionWithSGD\n",
    "from pyspark.mllib.tree import DecisionTree"
   ]
  },
  {
   "cell_type": "code",
   "execution_count": 2,
   "metadata": {
    "collapsed": true
   },
   "outputs": [],
   "source": [
    "sc = pyspark.SparkContext()"
   ]
  },
  {
   "cell_type": "code",
   "execution_count": 6,
   "metadata": {
    "collapsed": true
   },
   "outputs": [],
   "source": [
    "raw_rdd = sc.textFile(\"titanic.csv\")"
   ]
  },
  {
   "cell_type": "code",
   "execution_count": 7,
   "metadata": {},
   "outputs": [
    {
     "data": {
      "text/plain": [
       "1317"
      ]
     },
     "execution_count": 7,
     "metadata": {},
     "output_type": "execute_result"
    }
   ],
   "source": [
    "raw_rdd.count()"
   ]
  },
  {
   "cell_type": "code",
   "execution_count": 8,
   "metadata": {},
   "outputs": [
    {
     "data": {
      "text/plain": [
       "titanic.csv MapPartitionsRDD[5] at textFile at NativeMethodAccessorImpl.java:0"
      ]
     },
     "execution_count": 8,
     "metadata": {},
     "output_type": "execute_result"
    }
   ],
   "source": [
    "raw_rdd"
   ]
  },
  {
   "cell_type": "code",
   "execution_count": 9,
   "metadata": {},
   "outputs": [
    {
     "data": {
      "text/plain": [
       "[u'\"\",\"class\",\"age\",\"sex\",\"survived\"',\n",
       " u'\"1\",\"1st class\",\"adults\",\"man\",\"yes\"',\n",
       " u'\"2\",\"1st class\",\"adults\",\"man\",\"yes\"',\n",
       " u'\"3\",\"1st class\",\"adults\",\"man\",\"yes\"',\n",
       " u'\"4\",\"1st class\",\"adults\",\"man\",\"yes\"']"
      ]
     },
     "execution_count": 9,
     "metadata": {},
     "output_type": "execute_result"
    }
   ],
   "source": [
    "raw_rdd.take(5)"
   ]
  },
  {
   "cell_type": "code",
   "execution_count": 10,
   "metadata": {
    "collapsed": true
   },
   "outputs": [],
   "source": [
    "header = raw_rdd.first()\n",
    "data_rdd = raw_rdd.filter(lambda line: line != header)"
   ]
  },
  {
   "cell_type": "code",
   "execution_count": 11,
   "metadata": {},
   "outputs": [
    {
     "data": {
      "text/plain": [
       "[u'\"116\",\"1st class\",\"adults\",\"man\",\"no\"',\n",
       " u'\"26\",\"1st class\",\"adults\",\"man\",\"yes\"',\n",
       " u'\"393\",\"2nd class\",\"adults\",\"man\",\"no\"',\n",
       " u'\"774\",\"3rd class\",\"adults\",\"man\",\"no\"',\n",
       " u'\"799\",\"3rd class\",\"adults\",\"man\",\"no\"']"
      ]
     },
     "execution_count": 11,
     "metadata": {},
     "output_type": "execute_result"
    }
   ],
   "source": [
    "data_rdd.takeSample(False, 5, 0)"
   ]
  },
  {
   "cell_type": "code",
   "execution_count": 12,
   "metadata": {
    "collapsed": true
   },
   "outputs": [],
   "source": [
    "def row_to_labeled_point(line):\n",
    "    '''\n",
    "    Builds a LabelPoint consisting of:\n",
    "    \n",
    "    survival (truth): 0=no, 1=yes\n",
    "    ticket class: 0=1st class, 1=2nd class, 2=3rd class\n",
    "    age group: 0=child, 1=adults\n",
    "    gender: 0=man, 1=woman\n",
    "    '''\n",
    "    passenger_id, klass, age, sex, survived = [segs.strip('\"') for segs in line.split(',')]\n",
    "    klass = int(klass[0]) - 1\n",
    "    \n",
    "    if (age not in ['adults', 'child'] or \n",
    "        sex not in ['man', 'women'] or\n",
    "        survived not in ['yes', 'no']):\n",
    "        raise RuntimeError('unknown value')\n",
    "    \n",
    "    features = [\n",
    "        klass,\n",
    "        (1 if age == 'adults' else 0),\n",
    "        (1 if sex == 'women' else 0)\n",
    "    ]\n",
    "    return LabeledPoint(1 if survived == 'yes' else 0, features)"
   ]
  },
  {
   "cell_type": "code",
   "execution_count": 13,
   "metadata": {
    "collapsed": true
   },
   "outputs": [],
   "source": [
    "labeled_points_rdd = data_rdd.map(row_to_labeled_point)"
   ]
  },
  {
   "cell_type": "code",
   "execution_count": 14,
   "metadata": {},
   "outputs": [
    {
     "data": {
      "text/plain": [
       "[LabeledPoint(0.0, [0.0,1.0,0.0]),\n",
       " LabeledPoint(1.0, [0.0,1.0,0.0]),\n",
       " LabeledPoint(0.0, [1.0,1.0,0.0]),\n",
       " LabeledPoint(0.0, [2.0,1.0,0.0]),\n",
       " LabeledPoint(0.0, [2.0,1.0,0.0])]"
      ]
     },
     "execution_count": 14,
     "metadata": {},
     "output_type": "execute_result"
    }
   ],
   "source": [
    "labeled_points_rdd.takeSample(False, 5, 0)"
   ]
  },
  {
   "cell_type": "code",
   "execution_count": 15,
   "metadata": {
    "collapsed": true
   },
   "outputs": [],
   "source": [
    "training_rdd, test_rdd = labeled_points_rdd.randomSplit([0.7, 0.3], seed = 0)"
   ]
  },
  {
   "cell_type": "code",
   "execution_count": 16,
   "metadata": {
    "collapsed": true
   },
   "outputs": [],
   "source": [
    "training_count = training_rdd.count()\n",
    "test_count = test_rdd.count()"
   ]
  },
  {
   "cell_type": "code",
   "execution_count": 17,
   "metadata": {
    "collapsed": true
   },
   "outputs": [],
   "source": [
    "model = DecisionTree.trainClassifier(training_rdd, \n",
    "                                     numClasses=2, \n",
    "                                     categoricalFeaturesInfo={\n",
    "                                        0: 3,\n",
    "                                        1: 2,\n",
    "                                        2: 2\n",
    "                                     })"
   ]
  },
  {
   "cell_type": "code",
   "execution_count": 18,
   "metadata": {
    "collapsed": true
   },
   "outputs": [],
   "source": [
    "predictions_rdd = model.predict(test_rdd.map(lambda x: x.features))"
   ]
  },
  {
   "cell_type": "code",
   "execution_count": 19,
   "metadata": {
    "collapsed": true
   },
   "outputs": [],
   "source": [
    "truth_and_predictions_rdd = test_rdd.map(lambda lp: lp.label).zip(predictions_rdd)"
   ]
  },
  {
   "cell_type": "code",
   "execution_count": 20,
   "metadata": {},
   "outputs": [
    {
     "name": "stdout",
     "output_type": "stream",
     "text": [
      "('Accuracy =', 0.79)\n",
      "DecisionTreeModel classifier of depth 4 with 21 nodes\n",
      "  If (feature 2 in {0.0})\n",
      "   If (feature 1 in {0.0})\n",
      "    If (feature 0 in {0.0,2.0})\n",
      "     If (feature 0 in {0.0})\n",
      "      Predict: 1.0\n",
      "     Else (feature 0 not in {0.0})\n",
      "      Predict: 0.0\n",
      "    Else (feature 0 not in {0.0,2.0})\n",
      "     Predict: 1.0\n",
      "   Else (feature 1 not in {0.0})\n",
      "    If (feature 0 in {1.0})\n",
      "     Predict: 0.0\n",
      "    Else (feature 0 not in {1.0})\n",
      "     If (feature 0 in {0.0})\n",
      "      Predict: 0.0\n",
      "     Else (feature 0 not in {0.0})\n",
      "      Predict: 0.0\n",
      "  Else (feature 2 not in {0.0})\n",
      "   If (feature 0 in {2.0})\n",
      "    If (feature 1 in {0.0})\n",
      "     Predict: 0.0\n",
      "    Else (feature 1 not in {0.0})\n",
      "     Predict: 0.0\n",
      "   Else (feature 0 not in {2.0})\n",
      "    If (feature 0 in {1.0})\n",
      "     If (feature 1 in {0.0})\n",
      "      Predict: 1.0\n",
      "     Else (feature 1 not in {0.0})\n",
      "      Predict: 1.0\n",
      "    Else (feature 0 not in {1.0})\n",
      "     Predict: 1.0\n",
      "\n"
     ]
    }
   ],
   "source": [
    "accuracy = truth_and_predictions_rdd.filter(lambda v_p: v_p[0] == v_p[1]).count() / float(test_count)\n",
    "print('Accuracy =', accuracy)\n",
    "print(model.toDebugString())"
   ]
  },
  {
   "cell_type": "code",
   "execution_count": 21,
   "metadata": {},
   "outputs": [
    {
     "name": "stderr",
     "output_type": "stream",
     "text": [
      "/Users/madhav/spark-2.1.0/python/pyspark/mllib/classification.py:313: UserWarning: Deprecated in 2.0.0. Use ml.classification.LogisticRegression or LogisticRegressionWithLBFGS.\n",
      "  \"Deprecated in 2.0.0. Use ml.classification.LogisticRegression or \"\n"
     ]
    }
   ],
   "source": [
    "model = LogisticRegressionWithSGD.train(training_rdd)"
   ]
  },
  {
   "cell_type": "code",
   "execution_count": 22,
   "metadata": {
    "collapsed": true
   },
   "outputs": [],
   "source": [
    "predictions_rdd = model.predict(test_rdd.map(lambda x: x.features))"
   ]
  },
  {
   "cell_type": "code",
   "execution_count": 23,
   "metadata": {
    "collapsed": true
   },
   "outputs": [],
   "source": [
    "labels_and_predictions_rdd = test_rdd.map(lambda lp: lp.label).zip(predictions_rdd)"
   ]
  },
  {
   "cell_type": "code",
   "execution_count": 24,
   "metadata": {},
   "outputs": [
    {
     "name": "stdout",
     "output_type": "stream",
     "text": [
      "('Accuracy =', 0.7825)\n"
     ]
    }
   ],
   "source": [
    "accuracy = labels_and_predictions_rdd.filter(lambda v_p: v_p[0] == v_p[1]).count() / float(test_count)\n",
    "print('Accuracy =', accuracy)"
   ]
  },
  {
   "cell_type": "code",
   "execution_count": null,
   "metadata": {
    "collapsed": true
   },
   "outputs": [],
   "source": []
  },
  {
   "cell_type": "code",
   "execution_count": null,
   "metadata": {
    "collapsed": true
   },
   "outputs": [],
   "source": []
  },
  {
   "cell_type": "code",
   "execution_count": null,
   "metadata": {
    "collapsed": true
   },
   "outputs": [],
   "source": []
  },
  {
   "cell_type": "code",
   "execution_count": null,
   "metadata": {
    "collapsed": true
   },
   "outputs": [],
   "source": []
  }
 ],
 "metadata": {
  "anaconda-cloud": {},
  "kernelspec": {
   "display_name": "Python [Root]",
   "language": "python",
   "name": "Python [Root]"
  },
  "language_info": {
   "codemirror_mode": {
    "name": "ipython",
    "version": 2
   },
   "file_extension": ".py",
   "mimetype": "text/x-python",
   "name": "python",
   "nbconvert_exporter": "python",
   "pygments_lexer": "ipython2",
   "version": "2.7.12"
  }
 },
 "nbformat": 4,
 "nbformat_minor": 1
}
